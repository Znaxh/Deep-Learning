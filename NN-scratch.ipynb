{
 "cells": [
  {
   "cell_type": "code",
   "execution_count": 2,
   "id": "d4eef262",
   "metadata": {},
   "outputs": [
    {
     "name": "stdout",
     "output_type": "stream",
     "text": [
      "\u001b[2mAudited \u001b[1m1 package\u001b[0m \u001b[2min 7ms\u001b[0m\u001b[0m\n"
     ]
    }
   ],
   "source": [
    "!uv pip install matplotlib"
   ]
  },
  {
   "cell_type": "code",
   "execution_count": null,
   "id": "c835d754",
   "metadata": {},
   "outputs": [],
   "source": [
    "import numpy as np "
   ]
  },
  {
   "cell_type": "code",
   "execution_count": null,
   "id": "f100450f",
   "metadata": {},
   "outputs": [
    {
     "name": "stdout",
     "output_type": "stream",
     "text": [
      "[[2.2 1.4 3.2]\n",
      " [3.3 2.  5. ]\n",
      " [4.4 2.6 6.8]]\n",
      "[[1.4  1.64 2.54 3.44]\n",
      " [2.16 2.53 3.89 5.25]\n",
      " [2.92 3.42 5.24 7.06]]\n"
     ]
    }
   ],
   "source": [
    "input =np.array([[0,1,2,3],[1,2,3,4],[2,3,4,5]])\n",
    "weight = np.array([[0.2,0.1,0.3,0.5],[0.0,0.1,0.2,0.3],[0.3,0.4,0.5,0.6]])\n",
    "bias = [4,3,5,8]\n",
    "\n",
    "layer1 = np.dot(input,weight.T)\n",
    "print(layer1)\n",
    "layer2 = np.dot(layer1,weight)\n",
    "print(layer2)\n"
   ]
  },
  {
   "cell_type": "code",
   "execution_count": 16,
   "id": "b615f638",
   "metadata": {},
   "outputs": [
    {
     "name": "stdout",
     "output_type": "stream",
     "text": [
      "[[0.04355258 0.06481855]\n",
      " [0.07673453 0.11551981]\n",
      " [0.10991647 0.16622106]]\n"
     ]
    }
   ],
   "source": [
    "import numpy as np\n",
    "X = [[0,1,2,3],\n",
    "     [1,2,3,4],\n",
    "     [2,3,4,5]]\n",
    "\n",
    "class Layer_Dense:\n",
    "    def __init__(self, n_inputs, n_neurons):\n",
    "        np.random.seed(42)\n",
    "        self.weights = 0.10 * np.random.rand(n_inputs,n_neurons) \n",
    "        self.biases = np.zeros((1,n_neurons))\n",
    "    def forward(self, inputs):\n",
    "        self.output = np.dot(inputs,self.weights) + self.biases\n",
    "\n",
    "layer1 = Layer_Dense(4,5)\n",
    "layer2 = Layer_Dense(5,2)\n",
    "\n",
    "layer1.forward(X)\n",
    "# print(layer1.output)\n",
    "layer2.forward(layer1.output)\n",
    "print(layer2.output)\n"
   ]
  }
 ],
 "metadata": {
  "kernelspec": {
   "display_name": "Learning",
   "language": "python",
   "name": "python3"
  },
  "language_info": {
   "codemirror_mode": {
    "name": "ipython",
    "version": 3
   },
   "file_extension": ".py",
   "mimetype": "text/x-python",
   "name": "python",
   "nbconvert_exporter": "python",
   "pygments_lexer": "ipython3",
   "version": "3.10.18"
  }
 },
 "nbformat": 4,
 "nbformat_minor": 5
}
