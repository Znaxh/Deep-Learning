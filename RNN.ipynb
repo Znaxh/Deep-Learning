{
 "cells": [
  {
   "cell_type": "code",
   "execution_count": 1,
   "id": "be36c5da",
   "metadata": {},
   "outputs": [],
   "source": [
    "import torch\n",
    "import torch.nn as nn\n",
    "import numpy as np"
   ]
  },
  {
   "cell_type": "code",
   "execution_count": 2,
   "id": "bae2f2e1",
   "metadata": {},
   "outputs": [],
   "source": [
    "text = \"hello\""
   ]
  },
  {
   "cell_type": "code",
   "execution_count": 3,
   "id": "47ca9436",
   "metadata": {},
   "outputs": [],
   "source": [
    "chars = sorted(list(set(text))) # Vocabulary: ['e', 'h', 'l', 'o']\n",
    "char_to_int = {ch: i for i, ch in enumerate(chars)}\n",
    "int_to_char = {i: ch for i, ch in enumerate(chars)}"
   ]
  },
  {
   "cell_type": "code",
   "execution_count": null,
   "id": "4c671b9e",
   "metadata": {},
   "outputs": [],
   "source": [
    "input_size = len(chars)  # Vocabulary size\n",
    "hidden_size = 10         # Size of the RNN's memory (hyperparameter)\n",
    "output_size = len(chars) # We predict one character from the vocab\n",
    "sequence_length = len(text) - 1 # We predict the next char for \"hell\""
   ]
  },
  {
   "cell_type": "code",
   "execution_count": 6,
   "id": "f54b65d0",
   "metadata": {},
   "outputs": [],
   "source": [
    "input_seq = text[:-1]  # \"hell\"\n",
    "target_seq = text[1:]  # \"ello\"\n",
    "\n",
    "# Convert sequences to integer representations\n",
    "input_int = [char_to_int[c] for c in input_seq]\n",
    "target_int = [char_to_int[c] for c in target_seq]"
   ]
  },
  {
   "cell_type": "code",
   "execution_count": 7,
   "id": "ae04cd2d",
   "metadata": {},
   "outputs": [],
   "source": [
    "input_onehot = torch.zeros(sequence_length, 1, input_size)\n",
    "# Populate it\n",
    "for i in range(sequence_length):\n",
    "    char_index = input_int[i]\n",
    "    input_onehot[i][0][char_index] = 1.0"
   ]
  },
  {
   "cell_type": "code",
   "execution_count": 8,
   "id": "5ecf60fe",
   "metadata": {},
   "outputs": [
    {
     "name": "stdout",
     "output_type": "stream",
     "text": [
      "--- Data Shapes ---\n",
      "Input Tensor Shape: torch.Size([4, 1, 4])\n",
      "Target Tensor Shape: torch.Size([4])\n"
     ]
    }
   ],
   "source": [
    "target_tensor = torch.LongTensor(target_int)\n",
    "\n",
    "print(\"--- Data Shapes ---\")\n",
    "print(\"Input Tensor Shape:\", input_onehot.shape)\n",
    "print(\"Target Tensor Shape:\", target_tensor.shape)"
   ]
  }
 ],
 "metadata": {
  "kernelspec": {
   "display_name": "Learning",
   "language": "python",
   "name": "python3"
  },
  "language_info": {
   "codemirror_mode": {
    "name": "ipython",
    "version": 3
   },
   "file_extension": ".py",
   "mimetype": "text/x-python",
   "name": "python",
   "nbconvert_exporter": "python",
   "pygments_lexer": "ipython3",
   "version": "3.10.18"
  }
 },
 "nbformat": 4,
 "nbformat_minor": 5
}
