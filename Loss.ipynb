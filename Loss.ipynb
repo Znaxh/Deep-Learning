{
 "cells": [
  {
   "cell_type": "code",
   "execution_count": 11,
   "id": "279985ee",
   "metadata": {},
   "outputs": [],
   "source": [
    "import torch\n",
    "import torch.nn as nn"
   ]
  },
  {
   "cell_type": "code",
   "execution_count": 12,
   "id": "54bd85cd",
   "metadata": {},
   "outputs": [],
   "source": [
    "# True values (y) and predictions (y_hat)\n",
    "y_true = torch.tensor([3.0, -0.5, 2.0, 7.0])\n",
    "y_pred = torch.tensor([2.5, 0.0, 2.0, 8.0])"
   ]
  },
  {
   "cell_type": "code",
   "execution_count": 13,
   "id": "e15f094a",
   "metadata": {},
   "outputs": [],
   "source": [
    "loss =nn.MSELoss() "
   ]
  },
  {
   "cell_type": "code",
   "execution_count": 15,
   "id": "f59786c9",
   "metadata": {},
   "outputs": [
    {
     "data": {
      "text/plain": [
       "tensor(0.3750)"
      ]
     },
     "execution_count": 15,
     "metadata": {},
     "output_type": "execute_result"
    }
   ],
   "source": [
    "l2=loss(y_pred,y_true)\n",
    "l2"
   ]
  },
  {
   "cell_type": "code",
   "execution_count": 17,
   "id": "9b04b1d7",
   "metadata": {},
   "outputs": [
    {
     "name": "stdout",
     "output_type": "stream",
     "text": [
      "MSE Loss: 0.375\n"
     ]
    }
   ],
   "source": [
    "\n",
    "print(\"MSE Loss:\", l2.item())\n"
   ]
  },
  {
   "cell_type": "code",
   "execution_count": 19,
   "id": "f55cb0b5",
   "metadata": {},
   "outputs": [
    {
     "data": {
      "text/plain": [
       "tensor(0.3750)"
      ]
     },
     "execution_count": 19,
     "metadata": {},
     "output_type": "execute_result"
    }
   ],
   "source": [
    "MSE=(y_true-y_pred)**2\n",
    "MSE.mean()"
   ]
  }
 ],
 "metadata": {
  "kernelspec": {
   "display_name": "Learning",
   "language": "python",
   "name": "python3"
  },
  "language_info": {
   "codemirror_mode": {
    "name": "ipython",
    "version": 3
   },
   "file_extension": ".py",
   "mimetype": "text/x-python",
   "name": "python",
   "nbconvert_exporter": "python",
   "pygments_lexer": "ipython3",
   "version": "3.10.18"
  }
 },
 "nbformat": 4,
 "nbformat_minor": 5
}
