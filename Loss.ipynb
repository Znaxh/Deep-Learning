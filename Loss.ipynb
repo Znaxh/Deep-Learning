{
 "cells": [
  {
   "cell_type": "markdown",
   "id": "1922d815",
   "metadata": {},
   "source": [
    "# MSE Loss"
   ]
  },
  {
   "cell_type": "code",
   "execution_count": 11,
   "id": "279985ee",
   "metadata": {},
   "outputs": [],
   "source": [
    "import torch\n",
    "import torch.nn as nn"
   ]
  },
  {
   "cell_type": "code",
   "execution_count": 12,
   "id": "54bd85cd",
   "metadata": {},
   "outputs": [],
   "source": [
    "# True values (y) and predictions (y_hat)\n",
    "y_true = torch.tensor([3.0, -0.5, 2.0, 7.0])\n",
    "y_pred = torch.tensor([2.5, 0.0, 2.0, 8.0])"
   ]
  },
  {
   "cell_type": "code",
   "execution_count": 13,
   "id": "e15f094a",
   "metadata": {},
   "outputs": [],
   "source": [
    "loss =nn.MSELoss() "
   ]
  },
  {
   "cell_type": "code",
   "execution_count": 14,
   "id": "f59786c9",
   "metadata": {},
   "outputs": [
    {
     "data": {
      "text/plain": [
       "tensor(0.3750)"
      ]
     },
     "execution_count": 14,
     "metadata": {},
     "output_type": "execute_result"
    }
   ],
   "source": [
    "l2=loss(y_pred,y_true)\n",
    "l2"
   ]
  },
  {
   "cell_type": "code",
   "execution_count": 15,
   "id": "9b04b1d7",
   "metadata": {},
   "outputs": [
    {
     "name": "stdout",
     "output_type": "stream",
     "text": [
      "MSE Loss: 0.375\n"
     ]
    }
   ],
   "source": [
    "print(\"MSE Loss:\", l2.item())"
   ]
  },
  {
   "cell_type": "code",
   "execution_count": 16,
   "id": "f55cb0b5",
   "metadata": {},
   "outputs": [
    {
     "data": {
      "text/plain": [
       "tensor(0.3750)"
      ]
     },
     "execution_count": 16,
     "metadata": {},
     "output_type": "execute_result"
    }
   ],
   "source": [
    "MSE=(y_true-y_pred)**2\n",
    "MSE.mean()"
   ]
  },
  {
   "cell_type": "markdown",
   "id": "8447a65b",
   "metadata": {},
   "source": [
    "# Binary-Cross-Entropy Loss"
   ]
  },
  {
   "cell_type": "code",
   "execution_count": 17,
   "id": "50bf6694",
   "metadata": {},
   "outputs": [],
   "source": [
    "import torch\n",
    "import torch.nn as nn"
   ]
  },
  {
   "cell_type": "code",
   "execution_count": 18,
   "id": "c1df2c4e",
   "metadata": {},
   "outputs": [],
   "source": [
    "# True labels (0 = not spam, 1 = spam)\n",
    "y_true = torch.tensor([1., 0., 1., 0.])\n",
    "\n",
    "# Predictions (probabilities from sigmoid)\n",
    "y_pred = torch.tensor([0.9, 0.1, 0.8, 0.4])"
   ]
  },
  {
   "cell_type": "code",
   "execution_count": 19,
   "id": "8ad70d3a",
   "metadata": {},
   "outputs": [],
   "source": [
    "# Binary Cross Entropy Loss\n",
    "bce = nn.BCELoss()\n",
    "loss_value = bce(y_pred, y_true)"
   ]
  },
  {
   "cell_type": "code",
   "execution_count": 20,
   "id": "946aa835",
   "metadata": {},
   "outputs": [
    {
     "name": "stdout",
     "output_type": "stream",
     "text": [
      "Binary Cross-Entropy Loss: 0.23617255687713623\n"
     ]
    }
   ],
   "source": [
    "print(\"Binary Cross-Entropy Loss:\", loss_value.item())"
   ]
  }
 ],
 "metadata": {
  "kernelspec": {
   "display_name": "Learning",
   "language": "python",
   "name": "python3"
  },
  "language_info": {
   "codemirror_mode": {
    "name": "ipython",
    "version": 3
   },
   "file_extension": ".py",
   "mimetype": "text/x-python",
   "name": "python",
   "nbconvert_exporter": "python",
   "pygments_lexer": "ipython3",
   "version": "3.10.18"
  }
 },
 "nbformat": 4,
 "nbformat_minor": 5
}
