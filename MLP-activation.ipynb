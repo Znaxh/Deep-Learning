{
 "cells": [
  {
   "cell_type": "code",
   "execution_count": 12,
   "id": "16d70718",
   "metadata": {},
   "outputs": [],
   "source": [
    "import torch\n",
    "import torch.nn as nn\n",
    "import torch.nn.functional as F"
   ]
  },
  {
   "cell_type": "code",
   "execution_count": 13,
   "id": "6192a8b6",
   "metadata": {},
   "outputs": [],
   "source": [
    "class SimpleMLP(nn.Module):\n",
    "    def __init__(self, input_size = 784, hidden_size = 128 , output_size = 10):\n",
    "        super(SimpleMLP,self).__init__()\n",
    "        \n",
    "        # Layers\n",
    "        self.fc1 = nn.Linear(input_size, hidden_size)  # first hidden layer\n",
    "        self.fc2 = nn.Linear(hidden_size, hidden_size) # second hidden layer\n",
    "        self.fc3 = nn.Linear(hidden_size, output_size) # output layer\n",
    "\n",
    "    def forward(self, x):\n",
    "        # Flatten input (batch_size, 1, 28, 28) -> (batch_size, 784)\n",
    "        x = x.view(x.size(0), -1)  \n",
    "        \n",
    "        # Hidden layer 1 with ReLU\n",
    "        x = F.relu(self.fc1(x))\n",
    "        \n",
    "        # Hidden layer 2 with ReLU\n",
    "        x = F.relu(self.fc2(x))\n",
    "        \n",
    "        # Output layer with Softmax (for classification)\n",
    "        x = F.softmax(self.fc3(x), dim=1)\n",
    "        \n",
    "        return x"
   ]
  },
  {
   "cell_type": "code",
   "execution_count": 14,
   "id": "49a41bdb",
   "metadata": {},
   "outputs": [
    {
     "name": "stdout",
     "output_type": "stream",
     "text": [
      "tensor([[0.1042, 0.1172, 0.0899, 0.0881, 0.1142, 0.0920, 0.0954, 0.1019, 0.1019,\n",
      "         0.0951],\n",
      "        [0.1145, 0.1044, 0.0953, 0.1001, 0.1113, 0.0938, 0.1061, 0.0899, 0.0898,\n",
      "         0.0948]], grad_fn=<SoftmaxBackward0>)\n",
      "tensor([1., 1.], grad_fn=<SumBackward1>)\n"
     ]
    }
   ],
   "source": [
    "model = SimpleMLP()\n",
    "dummy_input = torch.randn(2, 1, 28, 28) \n",
    "# creates a tensor filled with random numbers drawn from a standard normal distribution (mean=0, standard deviation=1).\n",
    "# 2: Batch size - this creates 2 samples\n",
    "# 1: Number of channels - typically 1 for grayscale images\n",
    "# 28, 28: Height and width - creates 28x28 pixel images\n",
    "output = model(dummy_input)\n",
    "\n",
    "print(output)  # probabilities for 10 classes\n",
    "print(output.sum(dim=1))  #should sum to 1 for each sample"
   ]
  }
 ],
 "metadata": {
  "kernelspec": {
   "display_name": "Learning",
   "language": "python",
   "name": "python3"
  },
  "language_info": {
   "codemirror_mode": {
    "name": "ipython",
    "version": 3
   },
   "file_extension": ".py",
   "mimetype": "text/x-python",
   "name": "python",
   "nbconvert_exporter": "python",
   "pygments_lexer": "ipython3",
   "version": "3.10.18"
  }
 },
 "nbformat": 4,
 "nbformat_minor": 5
}
