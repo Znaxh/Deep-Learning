{
 "cells": [
  {
   "cell_type": "code",
   "execution_count": 1,
   "id": "aa7727ff",
   "metadata": {},
   "outputs": [],
   "source": [
    "import numpy as np"
   ]
  },
  {
   "cell_type": "code",
   "execution_count": 2,
   "id": "ba66401c",
   "metadata": {},
   "outputs": [],
   "source": [
    "def step_function(x):\n",
    "    return 1 if x >=0 else 0"
   ]
  },
  {
   "cell_type": "code",
   "execution_count": 3,
   "id": "0e1b18c0",
   "metadata": {},
   "outputs": [],
   "source": [
    "def perceptron_training(X,y,learning_rate = 0.1 , epochs = 10):\n",
    "    w = np.zeros(X.shape[1]) # row X column => 4 X 2\n",
    "    b = 0 \n",
    "    for epoch in range(epochs):\n",
    "        print(f\"\\nEpoch  = {epoch+1}\")\n",
    "        for i in range(len(X)):\n",
    "            x_i = X[i]\n",
    "            y_true = y[i]\n",
    "\n",
    "            z = b + np.dot(w,x_i)\n",
    "            y_pred = step_function(z)\n",
    "\n",
    "\n",
    "            # error calculation\n",
    "            error = y_true - y_pred\n",
    "\n",
    "            # update rule \n",
    "            w = w + learning_rate * error* x_i\n",
    "            b = b + learning_rate*error\n",
    "\n",
    "            print(f\"Input: {x_i}, Pred: {y_pred}, True: {y_true}, \"\n",
    "                  f\"Error: {error}, New w: {w}, New b: {b}\") \n",
    "\n",
    "\n",
    "    return w, b"
   ]
  },
  {
   "cell_type": "code",
   "execution_count": 4,
   "id": "5aa8702e",
   "metadata": {},
   "outputs": [],
   "source": [
    "# OR gate dataset\n",
    "X = np.array([\n",
    "    [0, 0],\n",
    "    [0, 1],\n",
    "    [1, 0],\n",
    "    [1, 1]\n",
    "])\n",
    "\n",
    "y = np.array([0, 1, 1, 1])"
   ]
  },
  {
   "cell_type": "code",
   "execution_count": 5,
   "id": "88fcca14",
   "metadata": {},
   "outputs": [
    {
     "name": "stdout",
     "output_type": "stream",
     "text": [
      "\n",
      "Epoch  = 1\n",
      "Input: [0 0], Pred: 1, True: 0, Error: -1, New w: [0. 0.], New b: -0.1\n",
      "Input: [0 1], Pred: 0, True: 1, Error: 1, New w: [0.  0.1], New b: 0.0\n",
      "Input: [1 0], Pred: 1, True: 1, Error: 0, New w: [0.  0.1], New b: 0.0\n",
      "Input: [1 1], Pred: 1, True: 1, Error: 0, New w: [0.  0.1], New b: 0.0\n",
      "\n",
      "Epoch  = 2\n",
      "Input: [0 0], Pred: 1, True: 0, Error: -1, New w: [0.  0.1], New b: -0.1\n",
      "Input: [0 1], Pred: 1, True: 1, Error: 0, New w: [0.  0.1], New b: -0.1\n",
      "Input: [1 0], Pred: 0, True: 1, Error: 1, New w: [0.1 0.1], New b: 0.0\n",
      "Input: [1 1], Pred: 1, True: 1, Error: 0, New w: [0.1 0.1], New b: 0.0\n",
      "\n",
      "Epoch  = 3\n",
      "Input: [0 0], Pred: 1, True: 0, Error: -1, New w: [0.1 0.1], New b: -0.1\n",
      "Input: [0 1], Pred: 1, True: 1, Error: 0, New w: [0.1 0.1], New b: -0.1\n",
      "Input: [1 0], Pred: 1, True: 1, Error: 0, New w: [0.1 0.1], New b: -0.1\n",
      "Input: [1 1], Pred: 1, True: 1, Error: 0, New w: [0.1 0.1], New b: -0.1\n",
      "\n",
      "Epoch  = 4\n",
      "Input: [0 0], Pred: 0, True: 0, Error: 0, New w: [0.1 0.1], New b: -0.1\n",
      "Input: [0 1], Pred: 1, True: 1, Error: 0, New w: [0.1 0.1], New b: -0.1\n",
      "Input: [1 0], Pred: 1, True: 1, Error: 0, New w: [0.1 0.1], New b: -0.1\n",
      "Input: [1 1], Pred: 1, True: 1, Error: 0, New w: [0.1 0.1], New b: -0.1\n",
      "\n",
      "Epoch  = 5\n",
      "Input: [0 0], Pred: 0, True: 0, Error: 0, New w: [0.1 0.1], New b: -0.1\n",
      "Input: [0 1], Pred: 1, True: 1, Error: 0, New w: [0.1 0.1], New b: -0.1\n",
      "Input: [1 0], Pred: 1, True: 1, Error: 0, New w: [0.1 0.1], New b: -0.1\n",
      "Input: [1 1], Pred: 1, True: 1, Error: 0, New w: [0.1 0.1], New b: -0.1\n",
      "\n",
      "Epoch  = 6\n",
      "Input: [0 0], Pred: 0, True: 0, Error: 0, New w: [0.1 0.1], New b: -0.1\n",
      "Input: [0 1], Pred: 1, True: 1, Error: 0, New w: [0.1 0.1], New b: -0.1\n",
      "Input: [1 0], Pred: 1, True: 1, Error: 0, New w: [0.1 0.1], New b: -0.1\n",
      "Input: [1 1], Pred: 1, True: 1, Error: 0, New w: [0.1 0.1], New b: -0.1\n",
      "\n",
      "Epoch  = 7\n",
      "Input: [0 0], Pred: 0, True: 0, Error: 0, New w: [0.1 0.1], New b: -0.1\n",
      "Input: [0 1], Pred: 1, True: 1, Error: 0, New w: [0.1 0.1], New b: -0.1\n",
      "Input: [1 0], Pred: 1, True: 1, Error: 0, New w: [0.1 0.1], New b: -0.1\n",
      "Input: [1 1], Pred: 1, True: 1, Error: 0, New w: [0.1 0.1], New b: -0.1\n",
      "\n",
      "Epoch  = 8\n",
      "Input: [0 0], Pred: 0, True: 0, Error: 0, New w: [0.1 0.1], New b: -0.1\n",
      "Input: [0 1], Pred: 1, True: 1, Error: 0, New w: [0.1 0.1], New b: -0.1\n",
      "Input: [1 0], Pred: 1, True: 1, Error: 0, New w: [0.1 0.1], New b: -0.1\n",
      "Input: [1 1], Pred: 1, True: 1, Error: 0, New w: [0.1 0.1], New b: -0.1\n",
      "\n",
      "Epoch  = 9\n",
      "Input: [0 0], Pred: 0, True: 0, Error: 0, New w: [0.1 0.1], New b: -0.1\n",
      "Input: [0 1], Pred: 1, True: 1, Error: 0, New w: [0.1 0.1], New b: -0.1\n",
      "Input: [1 0], Pred: 1, True: 1, Error: 0, New w: [0.1 0.1], New b: -0.1\n",
      "Input: [1 1], Pred: 1, True: 1, Error: 0, New w: [0.1 0.1], New b: -0.1\n",
      "\n",
      "Epoch  = 10\n",
      "Input: [0 0], Pred: 0, True: 0, Error: 0, New w: [0.1 0.1], New b: -0.1\n",
      "Input: [0 1], Pred: 1, True: 1, Error: 0, New w: [0.1 0.1], New b: -0.1\n",
      "Input: [1 0], Pred: 1, True: 1, Error: 0, New w: [0.1 0.1], New b: -0.1\n",
      "Input: [1 1], Pred: 1, True: 1, Error: 0, New w: [0.1 0.1], New b: -0.1\n"
     ]
    }
   ],
   "source": [
    "final_w , final_b = perceptron_training(X,y)"
   ]
  },
  {
   "cell_type": "code",
   "execution_count": 6,
   "id": "67ef2292",
   "metadata": {},
   "outputs": [
    {
     "name": "stdout",
     "output_type": "stream",
     "text": [
      "\n",
      "Final weights: [0.1 0.1]\n",
      "Final bias: -0.1\n"
     ]
    }
   ],
   "source": [
    "print(\"\\nFinal weights:\", final_w)\n",
    "print(\"Final bias:\", final_b)"
   ]
  },
  {
   "cell_type": "code",
   "execution_count": 7,
   "id": "8d338b5c",
   "metadata": {},
   "outputs": [
    {
     "name": "stdout",
     "output_type": "stream",
     "text": [
      "\n",
      "Testing trained perceptron:\n",
      "Input [0 0] → Output 0\n",
      "Input [0 1] → Output 1\n",
      "Input [1 0] → Output 1\n",
      "Input [1 1] → Output 1\n"
     ]
    }
   ],
   "source": [
    "\n",
    "# Test perceptron\n",
    "print(\"\\nTesting trained perceptron:\")\n",
    "for x_i in X:\n",
    "    z = np.dot(final_w, x_i) + final_b\n",
    "    print(f\"Input {x_i} → Output {step_function(z)}\")"
   ]
  }
 ],
 "metadata": {
  "kernelspec": {
   "display_name": "Learning",
   "language": "python",
   "name": "python3"
  },
  "language_info": {
   "codemirror_mode": {
    "name": "ipython",
    "version": 3
   },
   "file_extension": ".py",
   "mimetype": "text/x-python",
   "name": "python",
   "nbconvert_exporter": "python",
   "pygments_lexer": "ipython3",
   "version": "3.10.18"
  }
 },
 "nbformat": 4,
 "nbformat_minor": 5
}
