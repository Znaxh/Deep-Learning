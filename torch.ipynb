{
 "cells": [
  {
   "cell_type": "code",
   "execution_count": 2,
   "id": "3131ebf6",
   "metadata": {},
   "outputs": [],
   "source": [
    "import torch"
   ]
  },
  {
   "cell_type": "code",
   "execution_count": 3,
   "id": "0ff8b1a2",
   "metadata": {},
   "outputs": [
    {
     "name": "stdout",
     "output_type": "stream",
     "text": [
      "tensor(5)\n"
     ]
    }
   ],
   "source": [
    "# Scalar\n",
    "x = torch.tensor(5)\n",
    "print(x)     "
   ]
  },
  {
   "cell_type": "code",
   "execution_count": 4,
   "id": "95e408b9",
   "metadata": {},
   "outputs": [
    {
     "name": "stdout",
     "output_type": "stream",
     "text": [
      "tensor([1, 2, 3])\n"
     ]
    }
   ],
   "source": [
    "# Vector\n",
    "v = torch.tensor([1, 2, 3])\n",
    "print(v) "
   ]
  },
  {
   "cell_type": "code",
   "execution_count": 5,
   "id": "3d6644e6",
   "metadata": {},
   "outputs": [
    {
     "name": "stdout",
     "output_type": "stream",
     "text": [
      "tensor([[1, 2],\n",
      "        [3, 4]])\n"
     ]
    }
   ],
   "source": [
    "# Matrix\n",
    "m = torch.tensor([[1, 2], [3, 4]])\n",
    "print(m)\n"
   ]
  },
  {
   "cell_type": "code",
   "execution_count": 6,
   "id": "cf2492a7",
   "metadata": {},
   "outputs": [
    {
     "name": "stdout",
     "output_type": "stream",
     "text": [
      "tensor([5., 7., 9.])\n",
      "tensor([ 4., 10., 18.])\n",
      "tensor(32.)\n",
      "tensor(2.)\n"
     ]
    }
   ],
   "source": [
    "a = torch.tensor([1.0, 2.0, 3.0])\n",
    "b = torch.tensor([4.0, 5.0, 6.0])\n",
    "\n",
    "print(a + b)    # element-wise add\n",
    "print(a * b)    # element-wise multiply\n",
    "print(torch.dot(a, b))   # dot product\n",
    "print(a.mean()) # mean\n"
   ]
  },
  {
   "cell_type": "code",
   "execution_count": 7,
   "id": "def2ab78",
   "metadata": {},
   "outputs": [],
   "source": [
    "# Check if GPU is available\n",
    "# print(torch.cuda.is_available())\n",
    "\n",
    "# Move tensor to GPU\n",
    "# x = torch.tensor([1, 2, 3], device=\"cuda\")\n",
    "# print(x)\n"
   ]
  },
  {
   "cell_type": "code",
   "execution_count": 8,
   "id": "d29ca8f8",
   "metadata": {},
   "outputs": [
    {
     "name": "stdout",
     "output_type": "stream",
     "text": [
      "tensor(7.)\n"
     ]
    }
   ],
   "source": [
    "x = torch.tensor(2.0, requires_grad=True)  # “Track all operations on this tensor because I’ll need gradients w.r.t. it later.”\n",
    "\n",
    "y = x**2 + 3*x + 5   # function\n",
    "\n",
    "y.backward()         # compute dy/dx\n",
    "print(x.grad)        # prints tensor(7.)"
   ]
  },
  {
   "cell_type": "code",
   "execution_count": 9,
   "id": "dcf5511a",
   "metadata": {},
   "outputs": [],
   "source": [
    "import torch.nn as nn\n",
    "import torch.optim as optim"
   ]
  },
  {
   "cell_type": "code",
   "execution_count": 10,
   "id": "dbaad1bc",
   "metadata": {},
   "outputs": [],
   "source": [
    "# Simple model: input -> hidden -> output\n",
    "model = nn.Sequential(\n",
    "    nn.Linear(1, 10),   # 1 input → 10 hidden neurons\n",
    "    nn.ReLU(),          # activation\n",
    "    nn.Linear(10, 1)    # 10 → 1 output\n",
    ")\n"
   ]
  },
  {
   "cell_type": "code",
   "execution_count": 11,
   "id": "f4344e8f",
   "metadata": {},
   "outputs": [],
   "source": [
    "# Loss function\n",
    "loss_fn = nn.MSELoss()\n",
    "\n",
    "# Optimizer\n",
    "optimizer = optim.SGD(model.parameters(), lr=0.01)"
   ]
  },
  {
   "cell_type": "code",
   "execution_count": 12,
   "id": "8c54a30a",
   "metadata": {},
   "outputs": [
    {
     "name": "stdout",
     "output_type": "stream",
     "text": [
      "0 4.081465244293213\n",
      "10 0.5311488509178162\n",
      "20 0.05094873160123825\n",
      "30 0.004030545242130756\n",
      "40 0.0002957413671538234\n",
      "50 2.123728336300701e-05\n",
      "60 1.5158375390456058e-06\n",
      "70 1.0801740302213148e-07\n",
      "80 7.677058988520002e-09\n",
      "90 5.403677505455562e-10\n"
     ]
    }
   ],
   "source": [
    "for epoch in range(100):\n",
    "    # Forward pass\n",
    "    y_pred = model(torch.tensor([[1.0]]))  # example input\n",
    "\n",
    "    # Compute loss\n",
    "    y_true = torch.tensor([[2.0]])         # example target\n",
    "    loss = loss_fn(y_pred, y_true)\n",
    "\n",
    "    # Backward pass\n",
    "    optimizer.zero_grad()\n",
    "    loss.backward()\n",
    "    optimizer.step()\n",
    "\n",
    "    if epoch % 10 == 0:\n",
    "        print(epoch, loss.item())\n"
   ]
  }
 ],
 "metadata": {
  "kernelspec": {
   "display_name": "Learning",
   "language": "python",
   "name": "python3"
  },
  "language_info": {
   "codemirror_mode": {
    "name": "ipython",
    "version": 3
   },
   "file_extension": ".py",
   "mimetype": "text/x-python",
   "name": "python",
   "nbconvert_exporter": "python",
   "pygments_lexer": "ipython3",
   "version": "3.10.18"
  }
 },
 "nbformat": 4,
 "nbformat_minor": 5
}
