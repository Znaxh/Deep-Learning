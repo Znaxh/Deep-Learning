{
 "cells": [
  {
   "cell_type": "code",
   "execution_count": 2,
   "id": "db9e6951",
   "metadata": {},
   "outputs": [],
   "source": [
    "import torch\n",
    "import torch.nn as nn\n",
    "import torch.optim as optim"
   ]
  },
  {
   "cell_type": "code",
   "execution_count": 3,
   "id": "d0e0f87f",
   "metadata": {},
   "outputs": [],
   "source": [
    "# 1. Perceptron Model Class (as defined above)\n",
    "class Perceptron(nn.Module):\n",
    "    def __init__(self, input_features):\n",
    "        super(Perceptron, self).__init__()\n",
    "        self.linear = nn.Linear(input_features, 1)\n",
    "\n",
    "    def forward(self, x):\n",
    "        return torch.sigmoid(self.linear(x))"
   ]
  },
  {
   "cell_type": "code",
   "execution_count": 4,
   "id": "a956d032",
   "metadata": {},
   "outputs": [
    {
     "name": "stdout",
     "output_type": "stream",
     "text": [
      "Epoch [10/100], Loss: 0.7580\n",
      "Epoch [20/100], Loss: 0.6626\n",
      "Epoch [30/100], Loss: 0.6087\n",
      "Epoch [40/100], Loss: 0.5742\n",
      "Epoch [50/100], Loss: 0.5489\n",
      "Epoch [60/100], Loss: 0.5283\n",
      "Epoch [70/100], Loss: 0.5105\n",
      "Epoch [80/100], Loss: 0.4945\n",
      "Epoch [90/100], Loss: 0.4797\n",
      "Epoch [100/100], Loss: 0.4660\n",
      "\n",
      "--- Testing the trained model ---\n",
      "Input: \n",
      "[[1. 1.]\n",
      " [0. 0.]]\n",
      "Predictions: \n",
      "[[0.]\n",
      " [0.]]\n"
     ]
    }
   ],
   "source": [
    "X_train = torch.tensor([[1.0, 1.0],\n",
    "                        [1.0, 0.0], \n",
    "                        [0.0, 1.0], \n",
    "                        [0.0, 0.0]], dtype=torch.float32)\n",
    "\n",
    "y_train = torch.tensor([[1.0], [0.0], [0.0], [0.0]], dtype=torch.float32)\n",
    "\n",
    "# 3. Instantiate Model, Loss, and Optimizer\n",
    "input_size = 2\n",
    "model = Perceptron(input_features=input_size)\n",
    "\n",
    "# Loss function: Binary Cross-Entropy is suitable for binary classification.\n",
    "criterion = nn.BCELoss()\n",
    "\n",
    "# Optimizer: Stochastic Gradient Descent (SGD) to update model weights.\n",
    "optimizer = optim.SGD(model.parameters(), lr=0.1)\n",
    "\n",
    "# 4. Training Loop\n",
    "epochs = 100\n",
    "for epoch in range(epochs):\n",
    "    # Forward pass: compute predicted y by passing x to the model.\n",
    "    y_pred = model(X_train)\n",
    "\n",
    "    # Compute loss.\n",
    "    loss = criterion(y_pred, y_train)\n",
    "\n",
    "    # Zero gradients, perform a backward pass, and update the weights.\n",
    "    optimizer.zero_grad() # Clear previous gradients\n",
    "    loss.backward()       # Compute gradients\n",
    "    optimizer.step()      # Update weights\n",
    "\n",
    "    # Print progress every 10 epochs.\n",
    "    if (epoch + 1) % 10 == 0:\n",
    "        print(f'Epoch [{epoch+1}/{epochs}], Loss: {loss.item():.4f}')\n",
    "\n",
    "# 5. Make Predictions with the Trained Model\n",
    "print(\"\\n--- Testing the trained model ---\")\n",
    "with torch.no_grad(): # Deactivate autograd for inference\n",
    "    test_input = torch.tensor([[1.0, 1.0], [0.0, 0.0]], dtype=torch.float32)\n",
    "    predictions = model(test_input)\n",
    "    # Apply a threshold of 0.5 to get binary output (0 or 1)\n",
    "    binary_predictions = (predictions > 0.5).float()\n",
    "    \n",
    "    print(f\"Input: \\n{test_input.numpy()}\")\n",
    "    print(f\"Predictions: \\n{binary_predictions.numpy()}\")"
   ]
  }
 ],
 "metadata": {
  "kernelspec": {
   "display_name": "Learning",
   "language": "python",
   "name": "python3"
  },
  "language_info": {
   "codemirror_mode": {
    "name": "ipython",
    "version": 3
   },
   "file_extension": ".py",
   "mimetype": "text/x-python",
   "name": "python",
   "nbconvert_exporter": "python",
   "pygments_lexer": "ipython3",
   "version": "3.10.18"
  }
 },
 "nbformat": 4,
 "nbformat_minor": 5
}
