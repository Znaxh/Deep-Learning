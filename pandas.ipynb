{
 "cells": [
  {
   "cell_type": "code",
   "execution_count": 2,
   "id": "ff54f02f",
   "metadata": {},
   "outputs": [],
   "source": [
    "import pandas as pd"
   ]
  },
  {
   "cell_type": "code",
   "execution_count": 3,
   "id": "e4ae468a",
   "metadata": {},
   "outputs": [
    {
     "name": "stdout",
     "output_type": "stream",
     "text": [
      "0    22\n",
      "1    35\n",
      "2    58\n",
      "Name: Age, dtype: int64\n"
     ]
    }
   ],
   "source": [
    "# Create a Series from a list\n",
    "ages = pd.Series([22, 35, 58], name='Age')\n",
    "print(ages)"
   ]
  },
  {
   "cell_type": "code",
   "execution_count": 7,
   "id": "8a84954e",
   "metadata": {},
   "outputs": [
    {
     "name": "stdout",
     "output_type": "stream",
     "text": [
      "      Name  Age         City\n",
      "0    Alice   25     New York\n",
      "1      Bob   30  Los Angeles\n",
      "2  Charlie   35      Chicago\n"
     ]
    }
   ],
   "source": [
    "# Create a DataFrame from a dictionary\n",
    "data = {\n",
    "    'Name': ['Alice', 'Bob', 'Charlie'],\n",
    "    'Age': [25, 30, 35],\n",
    "    'City': ['New York', 'Los Angeles', 'Chicago']\n",
    "}\n",
    "\n",
    "df = pd.DataFrame(data)\n",
    "print(df)"
   ]
  },
  {
   "cell_type": "code",
   "execution_count": null,
   "id": "ce4ed2b9",
   "metadata": {},
   "outputs": [],
   "source": [
    "# Assuming you have a 'data.csv' file in the same directory\n",
    "# df = pd.read_csv('data.csv')"
   ]
  },
  {
   "cell_type": "code",
   "execution_count": 11,
   "id": "08d1470c",
   "metadata": {},
   "outputs": [
    {
     "name": "stdout",
     "output_type": "stream",
     "text": [
      "      Name  Age         City\n",
      "0    Alice   25     New York\n",
      "1      Bob   30  Los Angeles\n",
      "2  Charlie   35      Chicago\n",
      "<class 'pandas.core.frame.DataFrame'>\n",
      "RangeIndex: 3 entries, 0 to 2\n",
      "Data columns (total 3 columns):\n",
      " #   Column  Non-Null Count  Dtype \n",
      "---  ------  --------------  ----- \n",
      " 0   Name    3 non-null      object\n",
      " 1   Age     3 non-null      int64 \n",
      " 2   City    3 non-null      object\n",
      "dtypes: int64(1), object(2)\n",
      "memory usage: 200.0+ bytes\n",
      "None\n"
     ]
    }
   ],
   "source": [
    "print(df.head()) # Shows the first few rows\n",
    "print(df.info())   # Gives a technical summary"
   ]
  },
  {
   "cell_type": "code",
   "execution_count": 12,
   "id": "0413b3df",
   "metadata": {},
   "outputs": [],
   "source": [
    "# Select a single column\n",
    "ages = df['Age']\n",
    "\n",
    "# Select multiple columns\n",
    "name_and_city = df[['Name', 'City']]"
   ]
  },
  {
   "cell_type": "code",
   "execution_count": 13,
   "id": "ab53a9b1",
   "metadata": {},
   "outputs": [
    {
     "name": "stdout",
     "output_type": "stream",
     "text": [
      "Name       Alice\n",
      "Age           25\n",
      "City    New York\n",
      "Name: 0, dtype: object\n",
      "Name            Bob\n",
      "Age              30\n",
      "City    Los Angeles\n",
      "Name: 1, dtype: object\n",
      "      Name  Age\n",
      "0    Alice   25\n",
      "2  Charlie   35\n"
     ]
    }
   ],
   "source": [
    "# Select the first row (index 0)\n",
    "print(df.loc[0])\n",
    "\n",
    "# Select the second row (position 1)\n",
    "print(df.iloc[1])\n",
    "\n",
    "# Select rows 0 and 2, and columns 'Name' and 'Age'\n",
    "print(df.loc[[0, 2], ['Name', 'Age']])"
   ]
  },
  {
   "cell_type": "code",
   "execution_count": null,
   "id": "ffec37e3",
   "metadata": {},
   "outputs": [],
   "source": []
  }
 ],
 "metadata": {
  "kernelspec": {
   "display_name": "Learning",
   "language": "python",
   "name": "python3"
  },
  "language_info": {
   "codemirror_mode": {
    "name": "ipython",
    "version": 3
   },
   "file_extension": ".py",
   "mimetype": "text/x-python",
   "name": "python",
   "nbconvert_exporter": "python",
   "pygments_lexer": "ipython3",
   "version": "3.10.18"
  }
 },
 "nbformat": 4,
 "nbformat_minor": 5
}
