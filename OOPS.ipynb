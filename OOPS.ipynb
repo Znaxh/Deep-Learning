{
 "cells": [
  {
   "cell_type": "markdown",
   "id": "c3ee6616",
   "metadata": {},
   "source": [
    "# Class and object"
   ]
  },
  {
   "cell_type": "code",
   "execution_count": 43,
   "id": "15e03749",
   "metadata": {},
   "outputs": [
    {
     "name": "stdout",
     "output_type": "stream",
     "text": [
      "Tesla car in Red color is driving!\n",
      "BMW car in Black color is driving!\n"
     ]
    }
   ],
   "source": [
    "# Defining a class\n",
    "class Car:\n",
    "    # Constructor (__init__) is called when object is created\n",
    "    def __init__(self, brand, color):\n",
    "        self.brand = brand   # attribute\n",
    "        self.color = color\n",
    "\n",
    "    # Method\n",
    "    def drive(self):\n",
    "        print(f\"{self.brand} car in {self.color} color is driving!\")\n",
    "\n",
    "# Creating objects\n",
    "car1 = Car(\"Tesla\", \"Red\")\n",
    "car2 = Car(\"BMW\", \"Black\")\n",
    "\n",
    "car1.drive()\n",
    "car2.drive()\n"
   ]
  },
  {
   "cell_type": "markdown",
   "id": "18c9cfd6",
   "metadata": {},
   "source": [
    "# 1. Inheritance"
   ]
  },
  {
   "cell_type": "markdown",
   "id": "cc1a6d0c",
   "metadata": {},
   "source": [
    "## Parent Class"
   ]
  },
  {
   "cell_type": "code",
   "execution_count": 44,
   "id": "1b7e74ca",
   "metadata": {},
   "outputs": [],
   "source": [
    "# Parent class\n",
    "class Dog:\n",
    "    def __init__(self, name, age):\n",
    "        self.name = name\n",
    "        self.age = age\n",
    "\n",
    "    def bark(self):\n",
    "        return f\"{self.name} says Woof!\""
   ]
  },
  {
   "cell_type": "markdown",
   "id": "d599df0e",
   "metadata": {},
   "source": [
    "## Child Class"
   ]
  },
  {
   "cell_type": "code",
   "execution_count": 45,
   "id": "8678d6a8",
   "metadata": {},
   "outputs": [],
   "source": [
    "# Child class inheriting from Dog\n",
    "class GuideDog(Dog):\n",
    "    def __init__(self, name, age, owner):\n",
    "        # 'super()' calls the parent class's __init__ method\n",
    "        super().__init__(name, age)\n",
    "        self.owner = owner\n",
    "\n",
    "    # New method specific to GuideDog\n",
    "    def guide(self):\n",
    "        return f\"{self.name} is guiding {self.owner}.\""
   ]
  },
  {
   "cell_type": "code",
   "execution_count": 46,
   "id": "2e104c2e",
   "metadata": {},
   "outputs": [
    {
     "name": "stdout",
     "output_type": "stream",
     "text": [
      "Rocky says Woof!\n",
      "Rocky is guiding Alice.\n"
     ]
    }
   ],
   "source": [
    "# Create an instance of the child class\n",
    "my_guide_dog = GuideDog(\"Rocky\", 5, \"Alice\")\n",
    "\n",
    "# It can use methods from the parent Dog class\n",
    "print(my_guide_dog.bark())    # Output: Rocky says Woof!\n",
    "\n",
    "# And it can use its own methods\n",
    "print(my_guide_dog.guide())   # Output: Rocky is guiding Alice."
   ]
  },
  {
   "cell_type": "markdown",
   "id": "52f1e105",
   "metadata": {},
   "source": [
    "# 2. Encapsulation"
   ]
  },
  {
   "cell_type": "code",
   "execution_count": 47,
   "id": "2f4abd3f",
   "metadata": {},
   "outputs": [],
   "source": [
    "class Car:\n",
    "    def __init__(self, brand):\n",
    "        self.brand = brand\n",
    "        self.__fuel_level = 100 # A \"private\" attribute\n",
    "\n",
    "    def drive(self):\n",
    "        if self.__fuel_level > 0:\n",
    "            print(\"Driving...\")\n",
    "            self.__fuel_level -= 10\n",
    "        else:\n",
    "            print(\"Out of fuel!\")\n",
    "\n",
    "    def check_fuel(self):\n",
    "        return f\"Fuel level: {self.__fuel_level}%\""
   ]
  },
  {
   "cell_type": "code",
   "execution_count": 48,
   "id": "18bb93f9",
   "metadata": {},
   "outputs": [
    {
     "name": "stdout",
     "output_type": "stream",
     "text": [
      "Driving...\n",
      "Fuel level: 90%\n"
     ]
    }
   ],
   "source": [
    "my_car = Car(\"Toyota\")\n",
    "my_car.drive()\n",
    "# You cannot easily access the private attribute directly\n",
    "# print(my_car.__fuel_level) # This will cause an AttributeError\n",
    "\n",
    "# Instead, you use a method to interact with it\n",
    "print(my_car.check_fuel()) # Output: Fuel level: 90%"
   ]
  },
  {
   "cell_type": "markdown",
   "id": "f0204602",
   "metadata": {},
   "source": [
    "## Polymorphism"
   ]
  },
  {
   "cell_type": "code",
   "execution_count": 50,
   "id": "39d70e03",
   "metadata": {},
   "outputs": [
    {
     "name": "stdout",
     "output_type": "stream",
     "text": [
      "Meow!\n",
      "Woof!\n",
      "Quack!\n"
     ]
    }
   ],
   "source": [
    "class Cat:\n",
    "    def speak(self):\n",
    "        return \"Meow!\"\n",
    "\n",
    "class Dog:\n",
    "    def speak(self):\n",
    "        return \"Woof!\"\n",
    "\n",
    "class Duck:\n",
    "    def speak(self):\n",
    "        return \"Quack!\"\n",
    "\n",
    "# A function that can work with any object that has a 'speak' method\n",
    "def make_it_speak(animal):\n",
    "    print(animal.speak())\n",
    "\n",
    "# Create different animal objects\n",
    "cat = Cat()\n",
    "dog = Dog()\n",
    "duck = Duck()\n",
    "\n",
    "# Call the same function with different objects\n",
    "make_it_speak(cat)   # Output: Meow!\n",
    "make_it_speak(dog)   # Output: Woof!\n",
    "make_it_speak(duck)  # Output: Quack!"
   ]
  },
  {
   "cell_type": "markdown",
   "id": "647e7198",
   "metadata": {},
   "source": [
    "## 3. Abstraction"
   ]
  },
  {
   "cell_type": "code",
   "execution_count": null,
   "id": "2aff9fbf",
   "metadata": {},
   "outputs": [],
   "source": [
    "from abc import ABC, abstractmethod\n",
    "\n",
    "# Abstract base class\n",
    "class Vehicle(ABC):\n",
    "    @abstractmethod  # This decorator marks 'move' as an abstract method\n",
    "    def move(self):\n",
    "        pass # No implementation here\n",
    "\n",
    "class Car(Vehicle):\n",
    "    # The child class MUST provide an implementation for 'move'\n",
    "    def move(self):\n",
    "        print(\"Driving on the road...\")\n",
    "\n",
    "class Boat(Vehicle):\n",
    "    # Another child class with its own implementation\n",
    "    def move(self):\n",
    "        print(\"Sailing on the water...\")\n",
    "\n",
    "my_car = Car()\n",
    "my_boat = Boat()\n",
    "\n",
    "my_car.move()   # Output: Driving on the road...\n",
    "my_boat.move()  # Output: Sailing on the water...\n",
    "\n",
    "# You cannot create an instance of the abstract class itself\n",
    "# my_vehicle = Vehicle() # This would raise a TypeError"
   ]
  }
 ],
 "metadata": {
  "kernelspec": {
   "display_name": "Learning",
   "language": "python",
   "name": "python3"
  },
  "language_info": {
   "codemirror_mode": {
    "name": "ipython",
    "version": 3
   },
   "file_extension": ".py",
   "mimetype": "text/x-python",
   "name": "python",
   "nbconvert_exporter": "python",
   "pygments_lexer": "ipython3",
   "version": "3.10.18"
  }
 },
 "nbformat": 4,
 "nbformat_minor": 5
}
