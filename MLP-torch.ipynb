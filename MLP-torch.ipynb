{
 "cells": [
  {
   "cell_type": "code",
   "execution_count": 5,
   "id": "41c5fed2",
   "metadata": {},
   "outputs": [],
   "source": [
    "import torch\n",
    "import torch.nn as nn\n",
    "import torch.optim as optim\n"
   ]
  },
  {
   "cell_type": "code",
   "execution_count": 6,
   "id": "f53233e1",
   "metadata": {},
   "outputs": [],
   "source": [
    "# Inputs (x1, x2)\n",
    "X = torch.tensor([[0,0],\n",
    "                  [0,1],\n",
    "                  [1,0],\n",
    "                  [1,1]], dtype=torch.float32)\n",
    "\n",
    "# Outputs (labels)\n",
    "y = torch.tensor([[0],\n",
    "                  [0],\n",
    "                  [0],\n",
    "                  [1]], dtype=torch.float32)"
   ]
  },
  {
   "cell_type": "code",
   "execution_count": 7,
   "id": "fbbef488",
   "metadata": {},
   "outputs": [],
   "source": [
    "class MLP(nn.Module):\n",
    "    def __init__(self):\n",
    "        super(MLP, self).__init__()\n",
    "        # Input layer (2 → 2), Hidden layer (2 → 1)\n",
    "        self.hidden = nn.Linear(2, 2)   # 2 inputs → 2 hidden neurons\n",
    "        self.output = nn.Linear(2, 1)   # 2 hidden → 1 output neuron\n",
    "        self.activation = nn.Sigmoid()  # Sigmoid for non-linearity\n",
    "    \n",
    "    def forward(self, x):\n",
    "        x = self.activation(self.hidden(x))\n",
    "        x = self.activation(self.output(x))\n",
    "        return x\n",
    "\n",
    "model = MLP()"
   ]
  },
  {
   "cell_type": "code",
   "execution_count": 8,
   "id": "a6cdade9",
   "metadata": {},
   "outputs": [],
   "source": [
    "criterion = nn.BCELoss()                # Binary Cross-Entropy loss\n",
    "optimizer = optim.SGD(model.parameters(), lr=0.1)"
   ]
  },
  {
   "cell_type": "code",
   "execution_count": 9,
   "id": "0b4f4195",
   "metadata": {},
   "outputs": [
    {
     "name": "stdout",
     "output_type": "stream",
     "text": [
      "Epoch 100/1000, Loss: 0.5633\n",
      "Epoch 200/1000, Loss: 0.5444\n",
      "Epoch 300/1000, Loss: 0.5127\n",
      "Epoch 400/1000, Loss: 0.4712\n",
      "Epoch 500/1000, Loss: 0.4253\n",
      "Epoch 600/1000, Loss: 0.3768\n",
      "Epoch 700/1000, Loss: 0.3277\n",
      "Epoch 800/1000, Loss: 0.2805\n",
      "Epoch 900/1000, Loss: 0.2374\n",
      "Epoch 1000/1000, Loss: 0.1999\n"
     ]
    }
   ],
   "source": [
    "epochs = 1000\n",
    "for epoch in range(epochs):\n",
    "    # Forward pass\n",
    "    y_pred = model(X)\n",
    "    loss = criterion(y_pred, y)\n",
    "\n",
    "    # Backward pass\n",
    "    optimizer.zero_grad()\n",
    "    loss.backward()\n",
    "    optimizer.step()\n",
    "\n",
    "    # Print every 100 epochs\n",
    "    if (epoch+1) % 100 == 0:\n",
    "        print(f'Epoch {epoch+1}/{epochs}, Loss: {loss.item():.4f}')"
   ]
  },
  {
   "cell_type": "code",
   "execution_count": 10,
   "id": "5c410159",
   "metadata": {},
   "outputs": [
    {
     "name": "stdout",
     "output_type": "stream",
     "text": [
      "Predictions:\n",
      " tensor([[0.],\n",
      "        [0.],\n",
      "        [0.],\n",
      "        [1.]])\n"
     ]
    }
   ],
   "source": [
    "with torch.no_grad():  # no gradient needed during testing\n",
    "    predictions = model(X)\n",
    "    print(\"Predictions:\\n\", predictions.round())  # round to 0 or 1"
   ]
  }
 ],
 "metadata": {
  "kernelspec": {
   "display_name": "Learning",
   "language": "python",
   "name": "python3"
  },
  "language_info": {
   "codemirror_mode": {
    "name": "ipython",
    "version": 3
   },
   "file_extension": ".py",
   "mimetype": "text/x-python",
   "name": "python",
   "nbconvert_exporter": "python",
   "pygments_lexer": "ipython3",
   "version": "3.10.18"
  }
 },
 "nbformat": 4,
 "nbformat_minor": 5
}
