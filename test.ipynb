{
 "cells": [
  {
   "cell_type": "code",
   "execution_count": 13,
   "id": "e7ab0486",
   "metadata": {},
   "outputs": [],
   "source": [
    "import numpy as np"
   ]
  },
  {
   "cell_type": "code",
   "execution_count": 14,
   "id": "6f7d7ca1",
   "metadata": {},
   "outputs": [],
   "source": [
    "def stepfunction(x):\n",
    "    return 1 if x>= 0 else 0"
   ]
  },
  {
   "cell_type": "code",
   "execution_count": 15,
   "id": "c2488e83",
   "metadata": {},
   "outputs": [],
   "source": [
    "def perceptron( X , y , n = 0.1 , epochs = 10):\n",
    "    w = np.zeros(X.shape[1])\n",
    "    b = 0\n",
    "    for epoch in range(epochs):\n",
    "        print(f\"Epoch = {epoch+1}\")\n",
    "        for i in range(len(X)):\n",
    "            x_i = X[i]\n",
    "            y_true = y[i]\n",
    "\n",
    "            #new z calculation\n",
    "            z = np.dot(w,x_i)+b\n",
    "            y_pred = stepfunction(z)\n",
    "\n",
    "            # error calculation\n",
    "            error = y_true - y_pred\n",
    "\n",
    "            # update rule \n",
    "            w = w + n * error * x_i\n",
    "            b = b + n * error\n",
    "\n",
    "    return w , b"
   ]
  },
  {
   "cell_type": "code",
   "execution_count": 16,
   "id": "4f134a93",
   "metadata": {},
   "outputs": [],
   "source": [
    "# OR Gate ->\n",
    "X = np.array([\n",
    "    [0,0],\n",
    "    [0,1],\n",
    "    [1,0],\n",
    "    [1,1]\n",
    "    ])\n",
    "y = np.array([0,1,1,1])"
   ]
  },
  {
   "cell_type": "code",
   "execution_count": 18,
   "id": "afa119ce",
   "metadata": {},
   "outputs": [
    {
     "name": "stdout",
     "output_type": "stream",
     "text": [
      "Epoch = 1\n",
      "Epoch = 2\n",
      "Epoch = 3\n",
      "Epoch = 4\n",
      "Epoch = 5\n",
      "Epoch = 6\n",
      "Epoch = 7\n",
      "Epoch = 8\n",
      "Epoch = 9\n",
      "Epoch = 10\n",
      "[0.1 0.1] \n",
      " -0.1\n"
     ]
    }
   ],
   "source": [
    "f_w,f_b=perceptron(X,y)\n",
    "\n",
    "print(f\"{f_w} \\n {f_b}\")"
   ]
  }
 ],
 "metadata": {
  "kernelspec": {
   "display_name": "Learning",
   "language": "python",
   "name": "python3"
  },
  "language_info": {
   "codemirror_mode": {
    "name": "ipython",
    "version": 3
   },
   "file_extension": ".py",
   "mimetype": "text/x-python",
   "name": "python",
   "nbconvert_exporter": "python",
   "pygments_lexer": "ipython3",
   "version": "3.10.18"
  }
 },
 "nbformat": 4,
 "nbformat_minor": 5
}
